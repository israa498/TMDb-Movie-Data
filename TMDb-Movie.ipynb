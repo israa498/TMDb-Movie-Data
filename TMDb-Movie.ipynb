{
 "cells": [
  {
   "cell_type": "markdown",
   "metadata": {},
   "source": [
    "> **Tip**: Welcome to the Investigate a Dataset project! You will find tips in quoted sections like this to help organize your approach to your investigation. Once you complete this project, remove these **Tip** sections from your report before submission. First things first, you might want to double-click this Markdown cell and change the title so that it reflects your dataset and investigation.\n",
    "\n",
    "# Project: Investigate a Dataset - [TMDb Movies]\n",
    "\n",
    "## Table of Contents\n",
    "<ul>\n",
    "<li><a href=\"#intro\">Introduction</a></li>\n",
    "<li><a href=\"#wrangling\">Data Wrangling</a></li>\n",
    "<li><a href=\"#eda\">Exploratory Data Analysis</a></li>\n",
    "<li><a href=\"#conclusions\">Conclusions</a></li>\n",
    "</ul>"
   ]
  },
  {
   "cell_type": "markdown",
   "metadata": {},
   "source": [
    "<a id='intro'></a>\n",
    "## Introduction\n",
    "\n",
    "### Dataset Description \n",
    "\n",
    "The TMDb movie dataset contains about a thousand films released in the past period and contains information about film production such as film cost, revenue, cast, directors, production company, etc.\n",
    "In this project, I will analyze data by cleaning the data, providing some visual graphics and providing answers to the questions received\n",
    "\n",
    "\n",
    "### Question(s) for Analysis\n",
    ">1- which movies get the highest votes?\n",
    "\n",
    ">2- Which Month Released Highest Number Of Movies In All Of The Years?\n",
    "\n",
    ">3-Which year has the highest release of movies?\n",
    "\n",
    ">4- which Movie has Highest budget And which one has lowest budget?\n",
    "\n",
    ">5- Which genres are most popular?\n",
    "\n",
    ">6- which Production Companies has Higher Number Of Release?\n",
    "\n",
    "\n"
   ]
  },
  {
   "cell_type": "code",
   "execution_count": 228,
   "metadata": {},
   "outputs": [],
   "source": [
    "import pandas as pd\n",
    "import numpy as np\n",
    "import matplotlib.pyplot as plt\n",
    "import seaborn as sns\n",
    "\n",
    "% matplotlib inline\n"
   ]
  },
  {
   "cell_type": "code",
   "execution_count": 229,
   "metadata": {},
   "outputs": [
    {
     "name": "stdout",
     "output_type": "stream",
     "text": [
      "Requirement already up-to-date: pandas==0.25.0 in /opt/conda/lib/python3.6/site-packages (0.25.0)\r\n",
      "Requirement already satisfied, skipping upgrade: python-dateutil>=2.6.1 in /opt/conda/lib/python3.6/site-packages (from pandas==0.25.0) (2.6.1)\r\n",
      "Requirement already satisfied, skipping upgrade: numpy>=1.13.3 in /opt/conda/lib/python3.6/site-packages (from pandas==0.25.0) (1.19.5)\r\n",
      "Requirement already satisfied, skipping upgrade: pytz>=2017.2 in /opt/conda/lib/python3.6/site-packages (from pandas==0.25.0) (2017.3)\r\n",
      "Requirement already satisfied, skipping upgrade: six>=1.5 in /opt/conda/lib/python3.6/site-packages (from python-dateutil>=2.6.1->pandas==0.25.0) (1.11.0)\r\n"
     ]
    }
   ],
   "source": [
    "# Upgrade pandas to use dataframe.explode() function. \n",
    "!pip install --upgrade pandas==0.25.0"
   ]
  },
  {
   "cell_type": "markdown",
   "metadata": {},
   "source": [
    "<a id='wrangling'></a>\n",
    "## Data Wrangling\n",
    "\n",
    "> **Tip**: In this section of the report, you will load in the data, check for cleanliness, and then trim and clean your dataset for analysis. Make sure that you **document your data cleaning steps in mark-down cells precisely and justify your cleaning decisions.**\n",
    "\n",
    "\n",
    "### General Properties\n",
    "> **Tip**: You should _not_ perform too many operations in each cell. Create cells freely to explore your data. One option that you can take with this project is to do a lot of explorations in an initial notebook. These don't have to be organized, but make sure you use enough comments to understand the purpose of each code cell. Then, after you're done with your analysis, create a duplicate notebook where you will trim the excess and organize your steps so that you have a flowing, cohesive report."
   ]
  },
  {
   "cell_type": "code",
   "execution_count": 230,
   "metadata": {},
   "outputs": [],
   "source": [
    "tmdb_df = pd.read_csv('tmdb-movies.csv')"
   ]
  },
  {
   "cell_type": "code",
   "execution_count": 231,
   "metadata": {},
   "outputs": [
    {
     "name": "stdout",
     "output_type": "stream",
     "text": [
      "       id    imdb_id  popularity     budget     revenue  \\\n",
      "0  135397  tt0369610   32.985763  150000000  1513528810   \n",
      "1   76341  tt1392190   28.419936  150000000   378436354   \n",
      "2  262500  tt2908446   13.112507  110000000   295238201   \n",
      "3  140607  tt2488496   11.173104  200000000  2068178225   \n",
      "4  168259  tt2820852    9.335014  190000000  1506249360   \n",
      "\n",
      "                 original_title  \\\n",
      "0                Jurassic World   \n",
      "1            Mad Max: Fury Road   \n",
      "2                     Insurgent   \n",
      "3  Star Wars: The Force Awakens   \n",
      "4                     Furious 7   \n",
      "\n",
      "                                                cast  \\\n",
      "0  Chris Pratt|Bryce Dallas Howard|Irrfan Khan|Vi...   \n",
      "1  Tom Hardy|Charlize Theron|Hugh Keays-Byrne|Nic...   \n",
      "2  Shailene Woodley|Theo James|Kate Winslet|Ansel...   \n",
      "3  Harrison Ford|Mark Hamill|Carrie Fisher|Adam D...   \n",
      "4  Vin Diesel|Paul Walker|Jason Statham|Michelle ...   \n",
      "\n",
      "                                            homepage          director  \\\n",
      "0                      http://www.jurassicworld.com/   Colin Trevorrow   \n",
      "1                        http://www.madmaxmovie.com/     George Miller   \n",
      "2     http://www.thedivergentseries.movie/#insurgent  Robert Schwentke   \n",
      "3  http://www.starwars.com/films/star-wars-episod...       J.J. Abrams   \n",
      "4                           http://www.furious7.com/         James Wan   \n",
      "\n",
      "                         tagline      ...       \\\n",
      "0              The park is open.      ...        \n",
      "1             What a Lovely Day.      ...        \n",
      "2     One Choice Can Destroy You      ...        \n",
      "3  Every generation has a story.      ...        \n",
      "4            Vengeance Hits Home      ...        \n",
      "\n",
      "                                            overview runtime  \\\n",
      "0  Twenty-two years after the events of Jurassic ...     124   \n",
      "1  An apocalyptic story set in the furthest reach...     120   \n",
      "2  Beatrice Prior must confront her inner demons ...     119   \n",
      "3  Thirty years after defeating the Galactic Empi...     136   \n",
      "4  Deckard Shaw seeks revenge against Dominic Tor...     137   \n",
      "\n",
      "                                      genres  \\\n",
      "0  Action|Adventure|Science Fiction|Thriller   \n",
      "1  Action|Adventure|Science Fiction|Thriller   \n",
      "2         Adventure|Science Fiction|Thriller   \n",
      "3   Action|Adventure|Science Fiction|Fantasy   \n",
      "4                      Action|Crime|Thriller   \n",
      "\n",
      "                                production_companies release_date vote_count  \\\n",
      "0  Universal Studios|Amblin Entertainment|Legenda...       6/9/15       5562   \n",
      "1  Village Roadshow Pictures|Kennedy Miller Produ...      5/13/15       6185   \n",
      "2  Summit Entertainment|Mandeville Films|Red Wago...      3/18/15       2480   \n",
      "3          Lucasfilm|Truenorth Productions|Bad Robot     12/15/15       5292   \n",
      "4  Universal Pictures|Original Film|Media Rights ...       4/1/15       2947   \n",
      "\n",
      "   vote_average  release_year    budget_adj   revenue_adj  \n",
      "0           6.5          2015  1.379999e+08  1.392446e+09  \n",
      "1           7.1          2015  1.379999e+08  3.481613e+08  \n",
      "2           6.3          2015  1.012000e+08  2.716190e+08  \n",
      "3           7.5          2015  1.839999e+08  1.902723e+09  \n",
      "4           7.3          2015  1.747999e+08  1.385749e+09  \n",
      "\n",
      "[5 rows x 21 columns]\n"
     ]
    }
   ],
   "source": [
    "print(tmdb_df.head())"
   ]
  },
  {
   "cell_type": "code",
   "execution_count": 232,
   "metadata": {},
   "outputs": [
    {
     "name": "stdout",
     "output_type": "stream",
     "text": [
      "(10866, 21)\n"
     ]
    }
   ],
   "source": [
    "print(tmdb_df.shape)"
   ]
  },
  {
   "cell_type": "code",
   "execution_count": 233,
   "metadata": {},
   "outputs": [
    {
     "data": {
      "text/plain": [
       "<bound method NDFrame.describe of            id    imdb_id  popularity     budget     revenue  \\\n",
       "0      135397  tt0369610   32.985763  150000000  1513528810   \n",
       "1       76341  tt1392190   28.419936  150000000   378436354   \n",
       "2      262500  tt2908446   13.112507  110000000   295238201   \n",
       "3      140607  tt2488496   11.173104  200000000  2068178225   \n",
       "4      168259  tt2820852    9.335014  190000000  1506249360   \n",
       "5      281957  tt1663202    9.110700  135000000   532950503   \n",
       "6       87101  tt1340138    8.654359  155000000   440603537   \n",
       "7      286217  tt3659388    7.667400  108000000   595380321   \n",
       "8      211672  tt2293640    7.404165   74000000  1156730962   \n",
       "9      150540  tt2096673    6.326804  175000000   853708609   \n",
       "10     206647  tt2379713    6.200282  245000000   880674609   \n",
       "11      76757  tt1617661    6.189369  176000003   183987723   \n",
       "12     264660  tt0470752    6.118847   15000000    36869414   \n",
       "13     257344  tt2120120    5.984995   88000000   243637091   \n",
       "14      99861  tt2395427    5.944927  280000000  1405035767   \n",
       "15     273248  tt3460252    5.898400   44000000   155760117   \n",
       "16     260346  tt2446042    5.749758   48000000   325771424   \n",
       "17     102899  tt0478970    5.573184  130000000   518602163   \n",
       "18     150689  tt1661199    5.556818   95000000   542351353   \n",
       "19     131634  tt1951266    5.476958  160000000   650523427   \n",
       "20     158852  tt1964418    5.462138  190000000   209035668   \n",
       "21     307081  tt1798684    5.337064   30000000    91709827   \n",
       "22     254128  tt2126355    4.907832  110000000   470490832   \n",
       "23     216015  tt2322441    4.710402   40000000   569651467   \n",
       "24     318846  tt1596363    4.648046   28000000   133346506   \n",
       "25     177677  tt2381249    4.566713  150000000   682330139   \n",
       "26     214756  tt2637276    4.564549   68000000   215863606   \n",
       "27     207703  tt2802144    4.503789   81000000   403802136   \n",
       "28     314365  tt1895587    4.062293   20000000    88346473   \n",
       "29     294254  tt4046784    3.968891   61000000   311256926   \n",
       "...       ...        ...         ...        ...         ...   \n",
       "10836   38720  tt0061170    0.239435          0           0   \n",
       "10837   19728  tt0060177    0.291704          0           0   \n",
       "10838   22383  tt0060862    0.151845          0           0   \n",
       "10839   13353  tt0060550    0.276133          0           0   \n",
       "10840   34388  tt0060437    0.102530          0           0   \n",
       "10841   42701  tt0062262    0.264925      75000           0   \n",
       "10842   36540  tt0061199    0.253437          0           0   \n",
       "10843   29710  tt0060588    0.252399          0           0   \n",
       "10844   23728  tt0059557    0.236098          0           0   \n",
       "10845    5065  tt0059014    0.230873          0           0   \n",
       "10846   17102  tt0059127    0.212716          0           0   \n",
       "10847   28763  tt0060548    0.034555          0           0   \n",
       "10848    2161  tt0060397    0.207257    5115000    12000000   \n",
       "10849   28270  tt0060445    0.206537          0           0   \n",
       "10850   26268  tt0060490    0.202473          0           0   \n",
       "10851   15347  tt0060182    0.342791          0           0   \n",
       "10852   37301  tt0060165    0.227220          0           0   \n",
       "10853   15598  tt0060086    0.163592          0           0   \n",
       "10854   31602  tt0060232    0.146402          0           0   \n",
       "10855   13343  tt0059221    0.141026     700000           0   \n",
       "10856   20277  tt0061135    0.140934          0           0   \n",
       "10857    5921  tt0060748    0.131378          0           0   \n",
       "10858   31918  tt0060921    0.317824          0           0   \n",
       "10859   20620  tt0060955    0.089072          0           0   \n",
       "10860    5060  tt0060214    0.087034          0           0   \n",
       "10861      21  tt0060371    0.080598          0           0   \n",
       "10862   20379  tt0060472    0.065543          0           0   \n",
       "10863   39768  tt0060161    0.065141          0           0   \n",
       "10864   21449  tt0061177    0.064317          0           0   \n",
       "10865   22293  tt0060666    0.035919      19000           0   \n",
       "\n",
       "                                         original_title  \\\n",
       "0                                        Jurassic World   \n",
       "1                                    Mad Max: Fury Road   \n",
       "2                                             Insurgent   \n",
       "3                          Star Wars: The Force Awakens   \n",
       "4                                             Furious 7   \n",
       "5                                          The Revenant   \n",
       "6                                    Terminator Genisys   \n",
       "7                                           The Martian   \n",
       "8                                               Minions   \n",
       "9                                            Inside Out   \n",
       "10                                              Spectre   \n",
       "11                                    Jupiter Ascending   \n",
       "12                                           Ex Machina   \n",
       "13                                               Pixels   \n",
       "14                              Avengers: Age of Ultron   \n",
       "15                                    The Hateful Eight   \n",
       "16                                              Taken 3   \n",
       "17                                              Ant-Man   \n",
       "18                                           Cinderella   \n",
       "19                The Hunger Games: Mockingjay - Part 2   \n",
       "20                                         Tomorrowland   \n",
       "21                                             Southpaw   \n",
       "22                                          San Andreas   \n",
       "23                                 Fifty Shades of Grey   \n",
       "24                                        The Big Short   \n",
       "25                   Mission: Impossible - Rogue Nation   \n",
       "26                                                Ted 2   \n",
       "27                         Kingsman: The Secret Service   \n",
       "28                                            Spotlight   \n",
       "29                       Maze Runner: The Scorch Trials   \n",
       "...                                                 ...   \n",
       "10836                                    Walk Don't Run   \n",
       "10837                                      The Blue Max   \n",
       "10838                                 The Professionals   \n",
       "10839             It's the Great Pumpkin, Charlie Brown   \n",
       "10840                                 Funeral in Berlin   \n",
       "10841                                      The Shooting   \n",
       "10842                Winnie the Pooh and the Honey Tree   \n",
       "10843                                          Khartoum   \n",
       "10844                                     Our Man Flint   \n",
       "10845                                   Carry On Cowboy   \n",
       "10846                       Dracula: Prince of Darkness   \n",
       "10847                                  Island of Terror   \n",
       "10848                                  Fantastic Voyage   \n",
       "10849                                            Gambit   \n",
       "10850                                            Harper   \n",
       "10851                                         Born Free   \n",
       "10852                    A Big Hand for the Little Lady   \n",
       "10853                                             Alfie   \n",
       "10854                                         The Chase   \n",
       "10855                           The Ghost & Mr. Chicken   \n",
       "10856                                The Ugly Dachshund   \n",
       "10857                                      Nevada Smith   \n",
       "10858  The Russians Are Coming, The Russians Are Coming   \n",
       "10859                                           Seconds   \n",
       "10860                               Carry On Screaming!   \n",
       "10861                                The Endless Summer   \n",
       "10862                                        Grand Prix   \n",
       "10863                               Beregis Avtomobilya   \n",
       "10864                            What's Up, Tiger Lily?   \n",
       "10865                          Manos: The Hands of Fate   \n",
       "\n",
       "                                                    cast  \\\n",
       "0      Chris Pratt|Bryce Dallas Howard|Irrfan Khan|Vi...   \n",
       "1      Tom Hardy|Charlize Theron|Hugh Keays-Byrne|Nic...   \n",
       "2      Shailene Woodley|Theo James|Kate Winslet|Ansel...   \n",
       "3      Harrison Ford|Mark Hamill|Carrie Fisher|Adam D...   \n",
       "4      Vin Diesel|Paul Walker|Jason Statham|Michelle ...   \n",
       "5      Leonardo DiCaprio|Tom Hardy|Will Poulter|Domhn...   \n",
       "6      Arnold Schwarzenegger|Jason Clarke|Emilia Clar...   \n",
       "7      Matt Damon|Jessica Chastain|Kristen Wiig|Jeff ...   \n",
       "8      Sandra Bullock|Jon Hamm|Michael Keaton|Allison...   \n",
       "9      Amy Poehler|Phyllis Smith|Richard Kind|Bill Ha...   \n",
       "10     Daniel Craig|Christoph Waltz|LÃ©a Seydoux|Ralp...   \n",
       "11     Mila Kunis|Channing Tatum|Sean Bean|Eddie Redm...   \n",
       "12     Domhnall Gleeson|Alicia Vikander|Oscar Isaac|S...   \n",
       "13     Adam Sandler|Michelle Monaghan|Peter Dinklage|...   \n",
       "14     Robert Downey Jr.|Chris Hemsworth|Mark Ruffalo...   \n",
       "15     Samuel L. Jackson|Kurt Russell|Jennifer Jason ...   \n",
       "16     Liam Neeson|Forest Whitaker|Maggie Grace|Famke...   \n",
       "17     Paul Rudd|Michael Douglas|Evangeline Lilly|Cor...   \n",
       "18     Lily James|Cate Blanchett|Richard Madden|Helen...   \n",
       "19     Jennifer Lawrence|Josh Hutcherson|Liam Hemswor...   \n",
       "20     Britt Robertson|George Clooney|Raffey Cassidy|...   \n",
       "21     Jake Gyllenhaal|Rachel McAdams|Forest Whitaker...   \n",
       "22     Dwayne Johnson|Alexandra Daddario|Carla Gugino...   \n",
       "23     Dakota Johnson|Jamie Dornan|Jennifer Ehle|Eloi...   \n",
       "24     Christian Bale|Steve Carell|Ryan Gosling|Brad ...   \n",
       "25     Tom Cruise|Jeremy Renner|Simon Pegg|Rebecca Fe...   \n",
       "26     Mark Wahlberg|Seth MacFarlane|Amanda Seyfried|...   \n",
       "27     Taron Egerton|Colin Firth|Samuel L. Jackson|Mi...   \n",
       "28     Mark Ruffalo|Michael Keaton|Rachel McAdams|Lie...   \n",
       "29     Dylan O'Brien|Kaya Scodelario|Thomas Brodie-Sa...   \n",
       "...                                                  ...   \n",
       "10836  Cary Grant|Samantha Eggar|Jim Hutton|John Stan...   \n",
       "10837  George Peppard|James Mason|Ursula Andress|Jere...   \n",
       "10838  Burt Lancaster|Lee Marvin|Robert Ryan|Woody St...   \n",
       "10839  Christopher Shea|Sally Dryer|Kathy Steinberg|A...   \n",
       "10840  Michael Caine|Paul Hubschmid|Oskar Homolka|Eva...   \n",
       "10841  Will Hutchins|Millie Perkins|Jack Nicholson|Wa...   \n",
       "10842  Sterling Holloway|Junius Matthews|Sebastian Ca...   \n",
       "10843  Charlton Heston|Laurence Olivier|Richard Johns...   \n",
       "10844  James Coburn|Lee J. Cobb|Gila Golan|Edward Mul...   \n",
       "10845  Sid James|Jim Dale|Angela Douglas|Kenneth Will...   \n",
       "10846  Christopher Lee|Barbara Shelley|Andrew Keir|Fr...   \n",
       "10847  Peter Cushing|Edward Judd|Carole Gray|Eddie By...   \n",
       "10848  Stephen Boyd|Raquel Welch|Edmond O'Brien|Donal...   \n",
       "10849  Michael Caine|Shirley MacLaine|Herbert Lom|Joh...   \n",
       "10850  Paul Newman|Lauren Bacall|Julie Harris|Arthur ...   \n",
       "10851  Virginia McKenna|Bill Travers|Geoffrey Keen|Pe...   \n",
       "10852  Henry Fonda|Joanne Woodward|Jason Robards|Paul...   \n",
       "10853  Michael Caine|Shelley Winters|Millicent Martin...   \n",
       "10854  Marlon Brando|Jane Fonda|Robert Redford|E.G. M...   \n",
       "10855  Don Knotts|Joan Staley|Liam Redmond|Dick Sarge...   \n",
       "10856  Dean Jones|Suzanne Pleshette|Charles Ruggles|K...   \n",
       "10857  Steve McQueen|Karl Malden|Brian Keith|Arthur K...   \n",
       "10858  Carl Reiner|Eva Marie Saint|Alan Arkin|Brian K...   \n",
       "10859  Rock Hudson|Salome Jens|John Randolph|Will Gee...   \n",
       "10860  Kenneth Williams|Jim Dale|Harry H. Corbett|Joa...   \n",
       "10861  Michael Hynson|Robert August|Lord 'Tally Ho' B...   \n",
       "10862  James Garner|Eva Marie Saint|Yves Montand|Tosh...   \n",
       "10863  Innokentiy Smoktunovskiy|Oleg Efremov|Georgi Z...   \n",
       "10864  Tatsuya Mihashi|Akiko Wakabayashi|Mie Hama|Joh...   \n",
       "10865  Harold P. Warren|Tom Neyman|John Reynolds|Dian...   \n",
       "\n",
       "                                                homepage  \\\n",
       "0                          http://www.jurassicworld.com/   \n",
       "1                            http://www.madmaxmovie.com/   \n",
       "2         http://www.thedivergentseries.movie/#insurgent   \n",
       "3      http://www.starwars.com/films/star-wars-episod...   \n",
       "4                               http://www.furious7.com/   \n",
       "5           http://www.foxmovies.com/movies/the-revenant   \n",
       "6                        http://www.terminatormovie.com/   \n",
       "7            http://www.foxmovies.com/movies/the-martian   \n",
       "8                           http://www.minionsmovie.com/   \n",
       "9                    http://movies.disney.com/inside-out   \n",
       "10           http://www.sonypictures.com/movies/spectre/   \n",
       "11                       http://www.jupiterascending.com   \n",
       "12                           http://exmachina-movie.com/   \n",
       "13                          http://www.pixels-movie.com/   \n",
       "14     http://marvel.com/movies/movie/193/avengers_ag...   \n",
       "15                           http://thehatefuleight.com/   \n",
       "16                           http://www.taken3movie.com/   \n",
       "17            http://marvel.com/movies/movie/180/ant-man   \n",
       "18                                                   NaN   \n",
       "19                      http://www.thehungergames.movie/   \n",
       "20                 http://movies.disney.com/tomorrowland   \n",
       "21                                                   NaN   \n",
       "22                       http://www.sanandreasmovie.com/   \n",
       "23       https://www.facebook.com/fiftyshadesofgreymovie   \n",
       "24                      http://www.thebigshortmovie.com/   \n",
       "25                      http://www.missionimpossible.com   \n",
       "26                                                   NaN   \n",
       "27                         http://www.kingsmanmovie.com/   \n",
       "28                       http://www.spotlightthefilm.com   \n",
       "29                           http://mazerunnermovies.com   \n",
       "...                                                  ...   \n",
       "10836                                                NaN   \n",
       "10837                                                NaN   \n",
       "10838                                                NaN   \n",
       "10839                                                NaN   \n",
       "10840                                                NaN   \n",
       "10841                                                NaN   \n",
       "10842                                                NaN   \n",
       "10843                                                NaN   \n",
       "10844                                                NaN   \n",
       "10845                                                NaN   \n",
       "10846                                                NaN   \n",
       "10847                                                NaN   \n",
       "10848                                                NaN   \n",
       "10849                                                NaN   \n",
       "10850                                                NaN   \n",
       "10851                                                NaN   \n",
       "10852                                                NaN   \n",
       "10853                                                NaN   \n",
       "10854                                                NaN   \n",
       "10855                                                NaN   \n",
       "10856                                                NaN   \n",
       "10857                                                NaN   \n",
       "10858                                                NaN   \n",
       "10859                                                NaN   \n",
       "10860                                                NaN   \n",
       "10861                                                NaN   \n",
       "10862                                                NaN   \n",
       "10863                                                NaN   \n",
       "10864                                                NaN   \n",
       "10865                                                NaN   \n",
       "\n",
       "                             director  \\\n",
       "0                     Colin Trevorrow   \n",
       "1                       George Miller   \n",
       "2                    Robert Schwentke   \n",
       "3                         J.J. Abrams   \n",
       "4                           James Wan   \n",
       "5      Alejandro GonzÃ¡lez IÃ±Ã¡rritu   \n",
       "6                         Alan Taylor   \n",
       "7                        Ridley Scott   \n",
       "8            Kyle Balda|Pierre Coffin   \n",
       "9                         Pete Docter   \n",
       "10                         Sam Mendes   \n",
       "11     Lana Wachowski|Lilly Wachowski   \n",
       "12                       Alex Garland   \n",
       "13                     Chris Columbus   \n",
       "14                        Joss Whedon   \n",
       "15                  Quentin Tarantino   \n",
       "16                    Olivier Megaton   \n",
       "17                        Peyton Reed   \n",
       "18                    Kenneth Branagh   \n",
       "19                   Francis Lawrence   \n",
       "20                          Brad Bird   \n",
       "21                      Antoine Fuqua   \n",
       "22                        Brad Peyton   \n",
       "23                 Sam Taylor-Johnson   \n",
       "24                         Adam McKay   \n",
       "25              Christopher McQuarrie   \n",
       "26                    Seth MacFarlane   \n",
       "27                     Matthew Vaughn   \n",
       "28                       Tom McCarthy   \n",
       "29                           Wes Ball   \n",
       "...                               ...   \n",
       "10836                 Charles Walters   \n",
       "10837                 John Guillermin   \n",
       "10838                  Richard Brooks   \n",
       "10839                   Bill Melendez   \n",
       "10840                    Guy Hamilton   \n",
       "10841                   Monte Hellman   \n",
       "10842             Wolfgang Reitherman   \n",
       "10843    Basil Dearden|Eliot Elisofon   \n",
       "10844                     Daniel Mann   \n",
       "10845                   Gerald Thomas   \n",
       "10846                  Terence Fisher   \n",
       "10847                  Terence Fisher   \n",
       "10848               Richard Fleischer   \n",
       "10849                    Ronald Neame   \n",
       "10850                     Jack Smight   \n",
       "10851                      James Hill   \n",
       "10852                    Fielder Cook   \n",
       "10853                   Lewis Gilbert   \n",
       "10854                     Arthur Penn   \n",
       "10855                     Alan Rafkin   \n",
       "10856                    Norman Tokar   \n",
       "10857                  Henry Hathaway   \n",
       "10858                  Norman Jewison   \n",
       "10859              John Frankenheimer   \n",
       "10860                   Gerald Thomas   \n",
       "10861                     Bruce Brown   \n",
       "10862              John Frankenheimer   \n",
       "10863                  Eldar Ryazanov   \n",
       "10864                     Woody Allen   \n",
       "10865                Harold P. Warren   \n",
       "\n",
       "                                                 tagline      ...       \\\n",
       "0                                      The park is open.      ...        \n",
       "1                                     What a Lovely Day.      ...        \n",
       "2                             One Choice Can Destroy You      ...        \n",
       "3                          Every generation has a story.      ...        \n",
       "4                                    Vengeance Hits Home      ...        \n",
       "5        (n. One who has returned, as if from the dead.)      ...        \n",
       "6                                       Reset the future      ...        \n",
       "7                                         Bring Him Home      ...        \n",
       "8           Before Gru, they had a history of bad bosses      ...        \n",
       "9               Meet the little voices inside your head.      ...        \n",
       "10                                 A Plan No One Escapes      ...        \n",
       "11                                 Expand your universe.      ...        \n",
       "12     There is nothing more human than the will to s...      ...        \n",
       "13                                              Game On.      ...        \n",
       "14                                   A New Age Has Come.      ...        \n",
       "15      No one comes up here without a damn good reason.      ...        \n",
       "16                                          It Ends Here      ...        \n",
       "17                           Heroes Don't Get Any Bigger      ...        \n",
       "18                       Midnight is just the beginning.      ...        \n",
       "19                           The fire will burn forever.      ...        \n",
       "20          Imagine a world where nothing is impossible.      ...        \n",
       "21                                      Believe in Hope.      ...        \n",
       "22     A rescue pilot survived an earthquake, this is...      ...        \n",
       "23                                      Are you curious?      ...        \n",
       "24                                 This is a true story.      ...        \n",
       "25                  Desperate Times. Desperate Measures.      ...        \n",
       "26                                 Ted is Coming, Again.      ...        \n",
       "27                                   Manners maketh man.      ...        \n",
       "28                   Break the story. Break the silence.      ...        \n",
       "29                      The Maze Was Just the Beginning.      ...        \n",
       "...                                                  ...      ...        \n",
       "10836            Run, don't walk to see Walk, Don't Run.      ...        \n",
       "10837           There was no quiet on the Western Front!      ...        \n",
       "10838                            Rough, tough and ready.      ...        \n",
       "10839      Every year he rises from the pumpkin patch...      ...        \n",
       "10840                                                NaN      ...        \n",
       "10841  Suspenseful desert pursuit in the \"High Noon\" ...      ...        \n",
       "10842                                                NaN      ...        \n",
       "10843  Where the Nile divides, the great Cinerama adv...      ...        \n",
       "10844                       The ORIGINAL man of mystery!      ...        \n",
       "10845                             How the west was lost!      ...        \n",
       "10846  DEAD for Ten Years DRACULA, Prince of Darkness...      ...        \n",
       "10847  How could they stop the devouring death...that...      ...        \n",
       "10848  A Fantastic and Spectacular Voyage... Through ...      ...        \n",
       "10849             Shirley MacLaine raises Michael Caine!      ...        \n",
       "10850    Harper takes a case - and the payoff is murder.      ...        \n",
       "10851  From The Pages Of The Beloved Best Seller... A...      ...        \n",
       "10852  All the action you can take...all the adventur...      ...        \n",
       "10853                 Is any man an Alfie? Ask any girl!      ...        \n",
       "10854                                   The chase is on!      ...        \n",
       "10855  G-G-GUARANTEED! YOU'LL BE SCARED UNTIL YOU LAU...      ...        \n",
       "10856  A HAPPY HONEYMOON GOES TO THE DOGS!...When a G...      ...        \n",
       "10857  Some called him savage- and some called him sa...      ...        \n",
       "10858   IT'S A PLOT! ...to make the world die laughing!!      ...        \n",
       "10859                                                NaN      ...        \n",
       "10860  Carry On Screaming with the Hilarious CARRY ON...      ...        \n",
       "10861                                                NaN      ...        \n",
       "10862  Cinerama sweeps YOU into a drama of speed and ...      ...        \n",
       "10863                                                NaN      ...        \n",
       "10864                          WOODY ALLEN STRIKES BACK!      ...        \n",
       "10865       It's Shocking! It's Beyond Your Imagination!      ...        \n",
       "\n",
       "                                                overview runtime  \\\n",
       "0      Twenty-two years after the events of Jurassic ...     124   \n",
       "1      An apocalyptic story set in the furthest reach...     120   \n",
       "2      Beatrice Prior must confront her inner demons ...     119   \n",
       "3      Thirty years after defeating the Galactic Empi...     136   \n",
       "4      Deckard Shaw seeks revenge against Dominic Tor...     137   \n",
       "5      In the 1820s, a frontiersman, Hugh Glass, sets...     156   \n",
       "6      The year is 2029. John Connor, leader of the r...     125   \n",
       "7      During a manned mission to Mars, Astronaut Mar...     141   \n",
       "8      Minions Stuart, Kevin and Bob are recruited by...      91   \n",
       "9      Growing up can be a bumpy road, and it's no ex...      94   \n",
       "10     A cryptic message from Bondâ€™s past sends him...     148   \n",
       "11     In a universe where human genetic material is ...     124   \n",
       "12     Caleb, a 26 year old coder at the world's larg...     108   \n",
       "13     Video game experts are recruited by the milita...     105   \n",
       "14     When Tony Stark tries to jumpstart a dormant p...     141   \n",
       "15     Bounty hunters seek shelter from a raging bliz...     167   \n",
       "16     Ex-government operative Bryan Mills finds his ...     109   \n",
       "17     Armed with the astonishing ability to shrink i...     115   \n",
       "18     When her father unexpectedly passes away, youn...     112   \n",
       "19     With the nation of Panem in a full scale war, ...     136   \n",
       "20     Bound by a shared destiny, a bright, optimisti...     130   \n",
       "21     Billy \"The Great\" Hope, the reigning junior mi...     123   \n",
       "22     In the aftermath of a massive earthquake in Ca...     114   \n",
       "23     When college senior Anastasia Steele steps in ...     125   \n",
       "24     The men who made millions from a global econom...     130   \n",
       "25     Ethan and team take on their most impossible m...     131   \n",
       "26     Newlywed couple Ted and Tami-Lynn want to have...     115   \n",
       "27     The story of a super-secret spy organization t...     130   \n",
       "28     The true story of how The Boston Globe uncover...     128   \n",
       "29     Thomas and his fellow Gladers face their great...     132   \n",
       "...                                                  ...     ...   \n",
       "10836  British industrialist Sir William Rutland - \"B...     114   \n",
       "10837  A young pilot in the German air force of 1918,...     156   \n",
       "10838  The Professionals is a 1966 American Western f...     117   \n",
       "10839  This classic \"Peanuts\" tale focuses on the thu...      25   \n",
       "10840  Colonel Stok, a Soviet intelligence officer re...     102   \n",
       "10841  A hired gun seeks to enact revenge on a group ...      82   \n",
       "10842  Christopher Robin's bear attempts to raid a be...      25   \n",
       "10843  English General Charles George Gordon, a devou...     134   \n",
       "10844  When scientists use eco-terrorism to impose th...     108   \n",
       "10845  Stodge City is in the grip of the Rumpo Kid an...      93   \n",
       "10846  Whilst vacationing in the Carpathian Mountain,...      90   \n",
       "10847  A small island community is overrun with creep...      89   \n",
       "10848  The science of miniaturization has been unlock...     100   \n",
       "10849  Harry Dean (Michael Caine) has a perfect plan ...     109   \n",
       "10850  Harper is a cynical private eye in the best tr...     121   \n",
       "10851  Born Free (1966) is an Open Road Films Ltd./Co...      95   \n",
       "10852  A naive traveler in Laredo gets involved in a ...      95   \n",
       "10853  The film tells the story of a young man who le...     114   \n",
       "10854  Most everyone in town thinks that Sheriff Cald...     135   \n",
       "10855  Luther Heggs aspires to being a reporter for h...      90   \n",
       "10856  The Garrisons (Dean Jones and Suzanne Pleshett...      93   \n",
       "10857  Nevada Smith is the young son of an Indian mot...     128   \n",
       "10858  Without hostile intent, a Soviet sub runs agro...     126   \n",
       "10859  A secret organisation offers wealthy people a ...     100   \n",
       "10860  The sinister Dr Watt has an evil scheme going....      87   \n",
       "10861  The Endless Summer, by Bruce Brown, is one of ...      95   \n",
       "10862  Grand Prix driver Pete Aron is fired by his te...     176   \n",
       "10863  An insurance agent who moonlights as a carthie...      94   \n",
       "10864  In comic Woody Allen's film debut, he took the...      80   \n",
       "10865  A family gets lost on the road and stumbles up...      74   \n",
       "\n",
       "                                                genres  \\\n",
       "0            Action|Adventure|Science Fiction|Thriller   \n",
       "1            Action|Adventure|Science Fiction|Thriller   \n",
       "2                   Adventure|Science Fiction|Thriller   \n",
       "3             Action|Adventure|Science Fiction|Fantasy   \n",
       "4                                Action|Crime|Thriller   \n",
       "5                     Western|Drama|Adventure|Thriller   \n",
       "6            Science Fiction|Action|Thriller|Adventure   \n",
       "7                      Drama|Adventure|Science Fiction   \n",
       "8                    Family|Animation|Adventure|Comedy   \n",
       "9                              Comedy|Animation|Family   \n",
       "10                              Action|Adventure|Crime   \n",
       "11            Science Fiction|Fantasy|Action|Adventure   \n",
       "12                               Drama|Science Fiction   \n",
       "13                       Action|Comedy|Science Fiction   \n",
       "14                    Action|Adventure|Science Fiction   \n",
       "15                         Crime|Drama|Mystery|Western   \n",
       "16                               Crime|Action|Thriller   \n",
       "17                    Science Fiction|Action|Adventure   \n",
       "18                        Romance|Fantasy|Family|Drama   \n",
       "19                       War|Adventure|Science Fiction   \n",
       "20     Action|Family|Science Fiction|Adventure|Mystery   \n",
       "21                                        Action|Drama   \n",
       "22                               Action|Drama|Thriller   \n",
       "23                                       Drama|Romance   \n",
       "24                                        Comedy|Drama   \n",
       "25                                              Action   \n",
       "26                                              Comedy   \n",
       "27                       Crime|Comedy|Action|Adventure   \n",
       "28                              Drama|Thriller|History   \n",
       "29                     Action|Science Fiction|Thriller   \n",
       "...                                                ...   \n",
       "10836                                   Comedy|Romance   \n",
       "10837                       War|Action|Adventure|Drama   \n",
       "10838                         Action|Adventure|Western   \n",
       "10839                                 Family|Animation   \n",
       "10840                                         Thriller   \n",
       "10841                                          Western   \n",
       "10842                                 Animation|Family   \n",
       "10843               Adventure|Drama|War|History|Action   \n",
       "10844         Adventure|Comedy|Fantasy|Science Fiction   \n",
       "10845                                   Comedy|Western   \n",
       "10846                                           Horror   \n",
       "10847                           Science Fiction|Horror   \n",
       "10848                        Adventure|Science Fiction   \n",
       "10849                              Action|Comedy|Crime   \n",
       "10850              Action|Drama|Thriller|Crime|Mystery   \n",
       "10851            Adventure|Drama|Action|Family|Foreign   \n",
       "10852                                          Western   \n",
       "10853                             Comedy|Drama|Romance   \n",
       "10854                             Thriller|Drama|Crime   \n",
       "10855                    Comedy|Family|Mystery|Romance   \n",
       "10856                              Comedy|Drama|Family   \n",
       "10857                                   Action|Western   \n",
       "10858                                       Comedy|War   \n",
       "10859           Mystery|Science Fiction|Thriller|Drama   \n",
       "10860                                           Comedy   \n",
       "10861                                      Documentary   \n",
       "10862                           Action|Adventure|Drama   \n",
       "10863                                   Mystery|Comedy   \n",
       "10864                                    Action|Comedy   \n",
       "10865                                           Horror   \n",
       "\n",
       "                                    production_companies release_date  \\\n",
       "0      Universal Studios|Amblin Entertainment|Legenda...       6/9/15   \n",
       "1      Village Roadshow Pictures|Kennedy Miller Produ...      5/13/15   \n",
       "2      Summit Entertainment|Mandeville Films|Red Wago...      3/18/15   \n",
       "3              Lucasfilm|Truenorth Productions|Bad Robot     12/15/15   \n",
       "4      Universal Pictures|Original Film|Media Rights ...       4/1/15   \n",
       "5      Regency Enterprises|Appian Way|CatchPlay|Anony...     12/25/15   \n",
       "6                Paramount Pictures|Skydance Productions      6/23/15   \n",
       "7      Twentieth Century Fox Film Corporation|Scott F...      9/30/15   \n",
       "8          Universal Pictures|Illumination Entertainment      6/17/15   \n",
       "9      Walt Disney Pictures|Pixar Animation Studios|W...       6/9/15   \n",
       "10                          Columbia Pictures|Danjaq|B24     10/26/15   \n",
       "11     Village Roadshow Pictures|Dune Entertainment|A...       2/4/15   \n",
       "12     DNA Films|Universal Pictures International (UP...      1/21/15   \n",
       "13           Columbia Pictures|Happy Madison Productions      7/16/15   \n",
       "14     Marvel Studios|Prime Focus|Revolution Sun Studios      4/22/15   \n",
       "15     Double Feature Films|The Weinstein Company|Fil...     12/25/15   \n",
       "16     Twentieth Century Fox Film Corporation|M6 Film...       1/1/15   \n",
       "17                                        Marvel Studios      7/14/15   \n",
       "18     Walt Disney Pictures|Genre Films|Beagle Pug Fi...      3/12/15   \n",
       "19     Studio Babelsberg|StudioCanal|Lionsgate|Walt D...     11/18/15   \n",
       "20                     Walt Disney Pictures|Babieka|A113      5/19/15   \n",
       "21               Escape Artists|Riche-Ludwig Productions      6/15/15   \n",
       "22     New Line Cinema|Village Roadshow Pictures|Warn...      5/27/15   \n",
       "23     Focus Features|Trigger Street Productions|Mich...      2/11/15   \n",
       "24     Paramount Pictures|Plan B Entertainment|Regenc...     12/11/15   \n",
       "25     Paramount Pictures|Skydance Productions|China ...      7/23/15   \n",
       "26     Universal Pictures|Media Rights Capital|Fuzzy ...      6/25/15   \n",
       "27     Twentieth Century Fox Film Corporation|Marv Fi...      1/24/15   \n",
       "28     Participant Media|Open Road Films|Anonymous Co...      11/6/15   \n",
       "29     Gotham Group|Temple Hill Entertainment|TSG Ent...       9/9/15   \n",
       "...                                                  ...          ...   \n",
       "10836                      Columbia Pictures Corporation       1/1/66   \n",
       "10837             Twentieth Century Fox Film Corporation      6/21/66   \n",
       "10838                                  Columbia Pictures      11/1/66   \n",
       "10839                            Warner Bros. Home Video     10/27/66   \n",
       "10840                        Lowndes Productions Limited     12/22/66   \n",
       "10841                                      Proteus Films     10/23/66   \n",
       "10842                                                NaN       1/1/66   \n",
       "10843                  Julian Blaustein Productions Ltd.       6/9/66   \n",
       "10844                                   20th Century Fox      1/16/66   \n",
       "10845                           Peter Rogers Productions       3/1/66   \n",
       "10846     Seven Arts Productions|Hammer Film Productions       1/9/66   \n",
       "10847                   Planet Film Productions|Protelco      6/20/66   \n",
       "10848             Twentieth Century Fox Film Corporation      8/24/66   \n",
       "10849                                 Universal Pictures     12/16/66   \n",
       "10850                                       Warner Bros.      2/23/66   \n",
       "10851                                          High Road      6/22/66   \n",
       "10852                              Eden Productions Inc.      5/31/66   \n",
       "10853                                                NaN      3/29/66   \n",
       "10854     Horizon Pictures|Columbia Pictures Corporation      2/17/66   \n",
       "10855                                 Universal Pictures      1/20/66   \n",
       "10856                               Walt Disney Pictures      2/16/66   \n",
       "10857  Paramount Pictures|Solar Productions|Embassy P...      6/10/66   \n",
       "10858                            The Mirisch Corporation      5/25/66   \n",
       "10859  Gibraltar Productions|Joel Productions|John Fr...      10/5/66   \n",
       "10860  Peter Rogers Productions|Anglo-Amalgamated Fil...      5/20/66   \n",
       "10861                                  Bruce Brown Films      6/15/66   \n",
       "10862  Cherokee Productions|Joel Productions|Douglas ...     12/21/66   \n",
       "10863                                            Mosfilm       1/1/66   \n",
       "10864                            Benedict Pictures Corp.      11/2/66   \n",
       "10865                                          Norm-Iris     11/15/66   \n",
       "\n",
       "      vote_count  vote_average  release_year    budget_adj   revenue_adj  \n",
       "0           5562           6.5          2015  1.379999e+08  1.392446e+09  \n",
       "1           6185           7.1          2015  1.379999e+08  3.481613e+08  \n",
       "2           2480           6.3          2015  1.012000e+08  2.716190e+08  \n",
       "3           5292           7.5          2015  1.839999e+08  1.902723e+09  \n",
       "4           2947           7.3          2015  1.747999e+08  1.385749e+09  \n",
       "5           3929           7.2          2015  1.241999e+08  4.903142e+08  \n",
       "6           2598           5.8          2015  1.425999e+08  4.053551e+08  \n",
       "7           4572           7.6          2015  9.935996e+07  5.477497e+08  \n",
       "8           2893           6.5          2015  6.807997e+07  1.064192e+09  \n",
       "9           3935           8.0          2015  1.609999e+08  7.854116e+08  \n",
       "10          3254           6.2          2015  2.253999e+08  8.102203e+08  \n",
       "11          1937           5.2          2015  1.619199e+08  1.692686e+08  \n",
       "12          2854           7.6          2015  1.379999e+07  3.391985e+07  \n",
       "13          1575           5.8          2015  8.095996e+07  2.241460e+08  \n",
       "14          4304           7.4          2015  2.575999e+08  1.292632e+09  \n",
       "15          2389           7.4          2015  4.047998e+07  1.432992e+08  \n",
       "16          1578           6.1          2015  4.415998e+07  2.997096e+08  \n",
       "17          3779           7.0          2015  1.195999e+08  4.771138e+08  \n",
       "18          1495           6.8          2015  8.739996e+07  4.989630e+08  \n",
       "19          2380           6.5          2015  1.471999e+08  5.984813e+08  \n",
       "20          1899           6.2          2015  1.747999e+08  1.923127e+08  \n",
       "21          1386           7.3          2015  2.759999e+07  8.437300e+07  \n",
       "22          2060           6.1          2015  1.012000e+08  4.328514e+08  \n",
       "23          1865           5.3          2015  3.679998e+07  5.240791e+08  \n",
       "24          1545           7.3          2015  2.575999e+07  1.226787e+08  \n",
       "25          2349           7.1          2015  1.379999e+08  6.277435e+08  \n",
       "26          1666           6.3          2015  6.255997e+07  1.985944e+08  \n",
       "27          3833           7.6          2015  7.451997e+07  3.714978e+08  \n",
       "28          1559           7.8          2015  1.839999e+07  8.127872e+07  \n",
       "29          1849           6.4          2015  5.611998e+07  2.863562e+08  \n",
       "...          ...           ...           ...           ...           ...  \n",
       "10836         11           5.8          1966  0.000000e+00  0.000000e+00  \n",
       "10837         12           5.5          1966  0.000000e+00  0.000000e+00  \n",
       "10838         21           6.0          1966  0.000000e+00  0.000000e+00  \n",
       "10839         49           7.2          1966  0.000000e+00  0.000000e+00  \n",
       "10840         13           5.7          1966  0.000000e+00  0.000000e+00  \n",
       "10841         12           5.5          1966  5.038511e+05  0.000000e+00  \n",
       "10842         12           7.9          1966  0.000000e+00  0.000000e+00  \n",
       "10843         12           5.8          1966  0.000000e+00  0.000000e+00  \n",
       "10844         13           5.6          1966  0.000000e+00  0.000000e+00  \n",
       "10845         15           5.9          1966  0.000000e+00  0.000000e+00  \n",
       "10846         16           5.7          1966  0.000000e+00  0.000000e+00  \n",
       "10847         13           5.3          1966  0.000000e+00  0.000000e+00  \n",
       "10848         42           6.7          1966  3.436265e+07  8.061618e+07  \n",
       "10849         14           6.1          1966  0.000000e+00  0.000000e+00  \n",
       "10850         14           6.0          1966  0.000000e+00  0.000000e+00  \n",
       "10851         15           6.6          1966  0.000000e+00  0.000000e+00  \n",
       "10852         11           6.0          1966  0.000000e+00  0.000000e+00  \n",
       "10853         26           6.2          1966  0.000000e+00  0.000000e+00  \n",
       "10854         17           6.0          1966  0.000000e+00  0.000000e+00  \n",
       "10855         14           6.1          1966  4.702610e+06  0.000000e+00  \n",
       "10856         14           5.7          1966  0.000000e+00  0.000000e+00  \n",
       "10857         10           5.9          1966  0.000000e+00  0.000000e+00  \n",
       "10858         11           5.5          1966  0.000000e+00  0.000000e+00  \n",
       "10859         22           6.6          1966  0.000000e+00  0.000000e+00  \n",
       "10860         13           7.0          1966  0.000000e+00  0.000000e+00  \n",
       "10861         11           7.4          1966  0.000000e+00  0.000000e+00  \n",
       "10862         20           5.7          1966  0.000000e+00  0.000000e+00  \n",
       "10863         11           6.5          1966  0.000000e+00  0.000000e+00  \n",
       "10864         22           5.4          1966  0.000000e+00  0.000000e+00  \n",
       "10865         15           1.5          1966  1.276423e+05  0.000000e+00  \n",
       "\n",
       "[10866 rows x 21 columns]>"
      ]
     },
     "execution_count": 233,
     "metadata": {},
     "output_type": "execute_result"
    }
   ],
   "source": [
    "tmdb_df.describe"
   ]
  },
  {
   "cell_type": "code",
   "execution_count": 234,
   "metadata": {},
   "outputs": [
    {
     "name": "stdout",
     "output_type": "stream",
     "text": [
      "<class 'pandas.core.frame.DataFrame'>\n",
      "RangeIndex: 10866 entries, 0 to 10865\n",
      "Data columns (total 21 columns):\n",
      "id                      10866 non-null int64\n",
      "imdb_id                 10856 non-null object\n",
      "popularity              10866 non-null float64\n",
      "budget                  10866 non-null int64\n",
      "revenue                 10866 non-null int64\n",
      "original_title          10866 non-null object\n",
      "cast                    10790 non-null object\n",
      "homepage                2936 non-null object\n",
      "director                10822 non-null object\n",
      "tagline                 8042 non-null object\n",
      "keywords                9373 non-null object\n",
      "overview                10862 non-null object\n",
      "runtime                 10866 non-null int64\n",
      "genres                  10843 non-null object\n",
      "production_companies    9836 non-null object\n",
      "release_date            10866 non-null object\n",
      "vote_count              10866 non-null int64\n",
      "vote_average            10866 non-null float64\n",
      "release_year            10866 non-null int64\n",
      "budget_adj              10866 non-null float64\n",
      "revenue_adj             10866 non-null float64\n",
      "dtypes: float64(4), int64(6), object(11)\n",
      "memory usage: 1.7+ MB\n"
     ]
    }
   ],
   "source": [
    "tmdb_df.info()"
   ]
  },
  {
   "cell_type": "code",
   "execution_count": 235,
   "metadata": {},
   "outputs": [
    {
     "data": {
      "image/png": "[encoded data removed]",
      "text/plain": [
       "<matplotlib.figure.Figure at 0x7f8813291e48>"
      ]
     },
     "metadata": {
      "needs_background": "light"
     },
     "output_type": "display_data"
    }
   ],
   "source": [
    "tmdb_df.hist(figsize = (10, 10));"
   ]
  },
  {
   "cell_type": "markdown",
   "metadata": {},
   "source": [
    "##### Some stats about the dataset"
   ]
  },
  {
   "cell_type": "code",
   "execution_count": 236,
   "metadata": {},
   "outputs": [
    {
     "data": {
      "text/plain": [
       "id                         0\n",
       "imdb_id                   10\n",
       "popularity                 0\n",
       "budget                     0\n",
       "revenue                    0\n",
       "original_title             0\n",
       "cast                      76\n",
       "homepage                7930\n",
       "director                  44\n",
       "tagline                 2824\n",
       "keywords                1493\n",
       "overview                   4\n",
       "runtime                    0\n",
       "genres                    23\n",
       "production_companies    1030\n",
       "release_date               0\n",
       "vote_count                 0\n",
       "vote_average               0\n",
       "release_year               0\n",
       "budget_adj                 0\n",
       "revenue_adj                0\n",
       "dtype: int64"
      ]
     },
     "execution_count": 236,
     "metadata": {},
     "output_type": "execute_result"
    }
   ],
   "source": [
    "tmdb_df.isnull().sum()"
   ]
  },
  {
   "cell_type": "code",
   "execution_count": 237,
   "metadata": {},
   "outputs": [
    {
     "data": {
      "text/plain": [
       "1"
      ]
     },
     "execution_count": 237,
     "metadata": {},
     "output_type": "execute_result"
    }
   ],
   "source": [
    "tmdb_df.duplicated().sum()"
   ]
  },
  {
   "cell_type": "markdown",
   "metadata": {},
   "source": [
    "\n",
    "### Data Cleaning\n",
    "> **Tip**: Make sure that you keep your reader informed on the steps that you are taking in your investigation. Follow every code cell, or every set of related code cells, with a markdown cell to describe to the reader what was found in the preceding cell(s). Try to make it so that the reader can then understand what they will be seeing in the following cell(s).\n",
    " "
   ]
  },
  {
   "cell_type": "markdown",
   "metadata": {},
   "source": [
    " #### Remove Duplicates\n",
    " >'duplicated()' function Shows us that there is only one duplicate row that needs to be removed"
   ]
  },
  {
   "cell_type": "code",
   "execution_count": 238,
   "metadata": {},
   "outputs": [],
   "source": [
    "tmdb_df.drop_duplicates(inplace=True)"
   ]
  },
  {
   "cell_type": "markdown",
   "metadata": {},
   "source": [
    "#### Remove the unused colums\n",
    ">There are unhelpful columns in the data analysis process\n",
    "Such as imdb_id,homepage,tagline,overview ,budget_adj and revenue_adj\n"
   ]
  },
  {
   "cell_type": "code",
   "execution_count": 239,
   "metadata": {},
   "outputs": [],
   "source": [
    "tmdb_df.drop(columns = ['imdb_id','homepage','tagline','overview','budget_adj','revenue_adj'],axis =1,inplace = True)"
   ]
  },
  {
   "cell_type": "code",
   "execution_count": 240,
   "metadata": {},
   "outputs": [
    {
     "data": {
      "text/plain": [
       "(10865, 15)"
      ]
     },
     "execution_count": 240,
     "metadata": {},
     "output_type": "execute_result"
    }
   ],
   "source": [
    "tmdb_df.shape"
   ]
  },
  {
   "cell_type": "markdown",
   "metadata": {},
   "source": [
    "#### Change Format Of Release Date\n",
    ">Changing Format Of Release Date from string format Into Datetime format"
   ]
  },
  {
   "cell_type": "code",
   "execution_count": 241,
   "metadata": {},
   "outputs": [],
   "source": [
    "tmdb_df['release_date']=pd.to_datetime(tmdb_df['release_date'])"
   ]
  },
  {
   "cell_type": "code",
   "execution_count": 242,
   "metadata": {},
   "outputs": [
    {
     "data": {
      "text/plain": [
       "0   2015-06-09\n",
       "1   2015-05-13\n",
       "2   2015-03-18\n",
       "3   2015-12-15\n",
       "4   2015-04-01\n",
       "Name: release_date, dtype: datetime64[ns]"
      ]
     },
     "execution_count": 242,
     "metadata": {},
     "output_type": "execute_result"
    }
   ],
   "source": [
    "tmdb_df['release_date'].head()"
   ]
  },
  {
   "cell_type": "markdown",
   "metadata": {},
   "source": [
    "<a id='eda'></a>\n",
    "## Exploratory Data Analysis\n",
    "\n",
    "> **Tip**: Now that you've trimmed and cleaned your data, you're ready to move on to exploration. **Compute statistics** and **create visualizations** with the goal of addressing the research questions that you posed in the Introduction section. You should compute the relevant statistics throughout the analysis when an inference is made about the data. Note that at least two or more kinds of plots should be created as part of the exploration, and you must  compare and show trends in the varied visualizations. \n",
    "\n",
    "\n",
    "\n",
    "> **Tip**: - Investigate the stated question(s) from multiple angles. It is recommended that you be systematic with your approach. Look at one variable at a time, and then follow it up by looking at relationships between variables. You should explore at least three variables in relation to the primary question. This can be an exploratory relationship between three variables of interest, or looking at how two independent variables relate to a single dependent variable of interest. Lastly, you  should perform both single-variable (1d) and multiple-variable (2d) explorations.\n",
    "\n",
    "\n",
    "### 1- which movies get the highest votes?\n"
   ]
  },
  {
   "cell_type": "code",
   "execution_count": 243,
   "metadata": {},
   "outputs": [
    {
     "name": "stdout",
     "output_type": "stream",
     "text": [
      "Movie Which Has Highest vote_average :  The Story of Film: An Odyssey\n"
     ]
    }
   ],
   "source": [
    "def find_minmax(x):\n",
    "    high_index = tmdb_df[x].idxmax()\n",
    "    high = pd.DataFrame(tmdb_df.loc[high_index,:])\n",
    "    print(\"Movie Which Has Highest \"+ x + \" : \",tmdb_df['original_title'][high_index])\n",
    "    \n",
    "find_minmax('vote_average')\n"
   ]
  },
  {
   "cell_type": "code",
   "execution_count": 244,
   "metadata": {},
   "outputs": [
    {
     "data": {
      "image/png": "[encoded data removed]",
      "text/plain": [
       "<matplotlib.figure.Figure at 0x7f88132ac7b8>"
      ]
     },
     "metadata": {
      "needs_background": "light"
     },
     "output_type": "display_data"
    }
   ],
   "source": [
    "info = pd.DataFrame(tmdb_df['vote_average'].sort_values(ascending = False))\n",
    "info['original_title'] = tmdb_df['original_title']\n",
    "tmdb_data = list(map(str,(info['original_title'])))\n",
    "x = list(tmdb_data[:10])\n",
    "y = list(info['vote_average'][:10])\n",
    "ax = sns.pointplot(x=y,y=x)\n",
    "sns.set(rc={'figure.figsize':(10,5)})\n",
    "ax.set_title(\"Top 10 Highest Rated Movies\",fontsize = 15)\n",
    "ax.set_xlabel(\"Vote Average\",fontsize = 13)\n",
    "sns.set_style(\"darkgrid\")"
   ]
  },
  {
   "cell_type": "markdown",
   "metadata": {},
   "source": [
    "##### In this graph we can see the top 10 movies in terms of ratings.\n",
    "##### The highest rated movie is the story of film:an odyssey."
   ]
  },
  {
   "cell_type": "markdown",
   "metadata": {},
   "source": [
    "### 2- Which Month Released Highest Number Of Movies In All Of The Years?\n"
   ]
  },
  {
   "cell_type": "code",
   "execution_count": 245,
   "metadata": {},
   "outputs": [
    {
     "name": "stdout",
     "output_type": "stream",
     "text": [
      "1      919\n",
      "2      691\n",
      "3      822\n",
      "4      797\n",
      "5      809\n",
      "6      827\n",
      "7      799\n",
      "8      918\n",
      "9     1331\n",
      "10    1153\n",
      "11     814\n",
      "12     985\n",
      "Name: release_date, dtype: int64\n"
     ]
    }
   ],
   "source": [
    "release=tmdb_df['release_date'].dt.month.value_counts().sort_index()\n",
    "print(release)"
   ]
  },
  {
   "cell_type": "code",
   "execution_count": 246,
   "metadata": {},
   "outputs": [
    {
     "data": {
      "text/plain": [
       "Text(0,0.5,'Number of movie releases')"
      ]
     },
     "execution_count": 246,
     "metadata": {},
     "output_type": "execute_result"
    },
    {
     "data": {
      "image/png": "[encoded data removed]",
      "text/plain": [
       "<matplotlib.figure.Figure at 0x7f881322a240>"
      ]
     },
     "metadata": {},
     "output_type": "display_data"
    }
   ],
   "source": [
    "months=['Jan','Feb','Mar','Apr','May','Jun','Jul','Aug','Sep','Oct','Nov','Dec']\n",
    "release = pd.DataFrame(release)\n",
    "release['month'] = months\n",
    "release.rename(columns = {'release_date':'number_of_release'},inplace=True)\n",
    "release.plot(x='month',kind='bar',fontsize = 11,figsize=(8,6))\n",
    "#set the labels and titles of the plot.\n",
    "plt.title('Months vs Number Of Movie Releases',fontsize = 15)\n",
    "plt.xlabel('Month',fontsize = 13)\n",
    "plt.ylabel('Number of movie releases',fontsize = 13)"
   ]
  },
  {
   "cell_type": "markdown",
   "metadata": {},
   "source": [
    "##### in this  graph we can see  the highest number of release in september and october month."
   ]
  },
  {
   "cell_type": "markdown",
   "metadata": {},
   "source": [
    "### 3-  Which year has the highest release of movies?¶\n"
   ]
  },
  {
   "cell_type": "code",
   "execution_count": 247,
   "metadata": {},
   "outputs": [],
   "source": [
    "data=tmdb_df.groupby('release_year').count()['id']"
   ]
  },
  {
   "cell_type": "code",
   "execution_count": 248,
   "metadata": {},
   "outputs": [
    {
     "data": {
      "image/png": "[encoded data removed]",
      "text/plain": [
       "<matplotlib.figure.Figure at 0x7f8816164a58>"
      ]
     },
     "metadata": {},
     "output_type": "display_data"
    }
   ],
   "source": [
    "data.plot.bar(xticks = np.arange(1960,2016,5))\n",
    "sns.set(rc={'figure.figsize':(14,5)})\n",
    "plt.title(\"Year Vs Number Of Movies\",fontsize = 14)\n",
    "plt.xlabel('Release year',fontsize = 13)\n",
    "plt.ylabel('Number of Movies',fontsize = 13)\n",
    "sns.set_style(\"whitegrid\")"
   ]
  },
  {
   "cell_type": "markdown",
   "metadata": {},
   "source": [
    "##### in this  graph we can see which year has the highest  release of movies\n",
    "##### year has the highest release of movies was 2014\n"
   ]
  },
  {
   "cell_type": "markdown",
   "metadata": {},
   "source": [
    "### 4- which Movie has Highest budget And which one has lowest budget?\n"
   ]
  },
  {
   "cell_type": "code",
   "execution_count": 249,
   "metadata": {},
   "outputs": [
    {
     "name": "stdout",
     "output_type": "stream",
     "text": [
      "Movie Which Has Highest budget :  The Warrior's Way\n",
      "Movie Which Has Lowest budget  :  Mr. Holmes\n"
     ]
    }
   ],
   "source": [
    "def find_minmax(x):\n",
    "  \n",
    "    m_index = tmdb_df[x].idxmin()\n",
    "    h_index = tmdb_df[x].idxmax()\n",
    "    high = pd.DataFrame(tmdb_df.loc[h_index,:])\n",
    "    low = pd.DataFrame(tmdb_df.loc[m_index,:])\n",
    "    print(\"Movie Which Has Highest \"+ x + \" : \",tmdb_df['original_title'][h_index])\n",
    "    print(\"Movie Which Has Lowest \"+ x + \"  : \",tmdb_df['original_title'][m_index])\n",
    "   \n",
    "find_minmax('budget')"
   ]
  },
  {
   "cell_type": "code",
   "execution_count": 250,
   "metadata": {},
   "outputs": [
    {
     "data": {
      "image/png": "[encoded data removed]",
      "text/plain": [
       "<matplotlib.figure.Figure at 0x7f8813091dd8>"
      ]
     },
     "metadata": {},
     "output_type": "display_data"
    }
   ],
   "source": [
    "info = pd.DataFrame(tmdb_df['budget'].sort_values(ascending = False))\n",
    "info['original_title'] = tmdb_df['original_title']\n",
    "data = list(map(str,(info['original_title'])))\n",
    "\n",
    "x = list(data[:5])\n",
    "y = list(info['budget'][:5])\n",
    "\n",
    "ax = sns.pointplot(x=y,y=x)\n",
    "sns.set(rc={'figure.figsize':(10,5)})\n",
    "ax.set_title(\"Top 5 High Budget Movies\",fontsize = 15)\n",
    "ax.set_xlabel(\"Budget\",fontsize = 13)\n",
    "sns.set_style(\"darkgrid\")"
   ]
  },
  {
   "cell_type": "markdown",
   "metadata": {},
   "source": [
    "##### in this graph we can see the top 10 High Budget Movies\n",
    "\n",
    "##### the Movie Which Has Highest budget is The Warrior's Way"
   ]
  },
  {
   "cell_type": "markdown",
   "metadata": {},
   "source": [
    "### 5- Which genres are most popular?"
   ]
  },
  {
   "cell_type": "code",
   "execution_count": 251,
   "metadata": {},
   "outputs": [],
   "source": [
    "def data(x):\n",
    "    data_plot = tmdb_df[x].str.cat(sep = '|')\n",
    "    data = pd.Series(data_plot.split('|'))\n",
    "    info = data.value_counts(ascending=False)\n",
    "        \n",
    "    return info\n"
   ]
  },
  {
   "cell_type": "code",
   "execution_count": 252,
   "metadata": {},
   "outputs": [
    {
     "name": "stdout",
     "output_type": "stream",
     "text": [
      "Drama              4760\n",
      "Comedy             3793\n",
      "Thriller           2907\n",
      "Action             2384\n",
      "Romance            1712\n",
      "Horror             1637\n",
      "Adventure          1471\n",
      "Crime              1354\n",
      "Family             1231\n",
      "Science Fiction    1229\n",
      "Fantasy             916\n",
      "Mystery             810\n",
      "Animation           699\n",
      "Documentary         520\n",
      "Music               408\n",
      "History             334\n",
      "War                 270\n",
      "Foreign             188\n",
      "TV Movie            167\n",
      "Western             165\n",
      "dtype: int64\n"
     ]
    }
   ],
   "source": [
    "genre_movies = data('genres')\n",
    "print(genre_movies)"
   ]
  },
  {
   "cell_type": "code",
   "execution_count": 253,
   "metadata": {},
   "outputs": [
    {
     "data": {
      "text/plain": [
       "Text(0,0.5,'Genres')"
      ]
     },
     "execution_count": 253,
     "metadata": {},
     "output_type": "execute_result"
    },
    {
     "data": {
      "image/png": "[encoded data removed]",
      "text/plain": [
       "<matplotlib.figure.Figure at 0x7f8817273c50>"
      ]
     },
     "metadata": {},
     "output_type": "display_data"
    }
   ],
   "source": [
    "genre_movies.plot(kind= 'bar',figsize = (13,8),fontsize=12)\n",
    "plt.title(\"most popular Genres\",fontsize=15)\n",
    "plt.xlabel(' Movies',fontsize=13)\n",
    "plt.ylabel(\"Genres\",fontsize= 13)"
   ]
  },
  {
   "cell_type": "markdown",
   "metadata": {},
   "source": [
    "##### in this graph we can see Genre With Highest Release.\n",
    "##### Drama genre has the highest release of movies.\n"
   ]
  },
  {
   "cell_type": "markdown",
   "metadata": {},
   "source": [
    "### 6- which Production Companies has Higher Number Of Release?\n"
   ]
  },
  {
   "cell_type": "code",
   "execution_count": 254,
   "metadata": {},
   "outputs": [],
   "source": [
    "def data(x):\n",
    "    data_plot = tmdb_df[x].str.cat(sep = '|')\n",
    "    data = pd.Series(data_plot.split('|'))\n",
    "    info = data.value_counts(ascending=False)\n",
    "        \n",
    "    return info"
   ]
  },
  {
   "cell_type": "code",
   "execution_count": 255,
   "metadata": {},
   "outputs": [
    {
     "name": "stdout",
     "output_type": "stream",
     "text": [
      "Universal Pictures                        522\n",
      "Warner Bros.                              509\n",
      "Paramount Pictures                        431\n",
      "Twentieth Century Fox Film Corporation    282\n",
      "Columbia Pictures                         272\n",
      "New Line Cinema                           219\n",
      "Metro-Goldwyn-Mayer (MGM)                 218\n",
      "Walt Disney Pictures                      214\n",
      "Touchstone Pictures                       178\n",
      "Columbia Pictures Corporation             160\n",
      "TriStar Pictures                          147\n",
      "Miramax Films                             139\n",
      "Relativity Media                          108\n",
      "Regency Enterprises                        95\n",
      "Canal+                                     92\n",
      "Village Roadshow Pictures                  88\n",
      "20th Century Fox                           88\n",
      "DreamWorks SKG                             88\n",
      "BBC Films                                  87\n",
      "Dimension Films                            82\n",
      "United Artists                             76\n",
      "Orion Pictures                             72\n",
      "Castle Rock Entertainment                  68\n",
      "Fox Searchlight Pictures                   68\n",
      "Working Title Films                        67\n",
      "Amblin Entertainment                       65\n",
      "StudioCanal                                65\n",
      "Lionsgate                                  63\n",
      "Summit Entertainment                       62\n",
      "Fox 2000 Pictures                          58\n",
      "                                         ... \n",
      "Emergency Exit Pictures                     1\n",
      "Jessie Nelson Productions                   1\n",
      "Framestore CFC                              1\n",
      "Watership Productions                       1\n",
      "Zupnik Cinema Group II                      1\n",
      "Halcyon Pictures                            1\n",
      "Panacea Entertainment                       1\n",
      "Television New Zealand                      1\n",
      "Armzfx                                      1\n",
      "Layton Productions                          1\n",
      "East of Harlem (UK) Ltd                     1\n",
      "St. Michael Finance Limited                 1\n",
      "Entertainment One Features                  1\n",
      "Tin Blue                                    1\n",
      "Media Financial Incorporated                1\n",
      "Doty-Dayton Production                      1\n",
      "S Films                                     1\n",
      "Campfire LLC                                1\n",
      "Endemol Entertainment                       1\n",
      "Inland Empire Productions                   1\n",
      "Perspective Productions                     1\n",
      "Working Title Television Production         1\n",
      "First Choice Films                          1\n",
      "Perfect Weekend                             1\n",
      "The Production Company                      1\n",
      "24/7 Films                                  1\n",
      "Sunny Day Media                             1\n",
      "Stan Winston Studio                         1\n",
      "VBT Productions                             1\n",
      "Tiberius Film Productions                   1\n",
      "Length: 7879, dtype: int64\n"
     ]
    }
   ],
   "source": [
    "p_co = data('production_companies')\n",
    "print(p_co)"
   ]
  },
  {
   "cell_type": "markdown",
   "metadata": {},
   "source": [
    "##### Universal Pictures Companies has Higher Number Of Release"
   ]
  },
  {
   "cell_type": "markdown",
   "metadata": {},
   "source": [
    "<a id='conclusions'></a>\n",
    "## Conclusions\n",
    "\n",
    ">the movie  Has Highest vote_average was The Story of Film: An Odyssey\n",
    "\n",
    ">The Story of Film: An Odyssey,the mask you live in ,life cycles and black mirrior are four most-rated movies\n",
    "\n",
    ">the higher number of release in september \n",
    "\n",
    ">Drama is the most popular genre\n",
    "\n",
    ">Drame, Comedy, Thriller and Action are four most popular genres. \n",
    "\n",
    ">year has the highest release of movies was 2014\n",
    "\n",
    ">Movie Which Has Highest budget was The Warrior's Way\n",
    "\n",
    ">Movie Which Has Lowest budget was Mr. Holmes\n",
    "\n",
    ">Warner Bros earn more lifetime profit than other production companies.\n",
    "\n",
    "\n",
    "\n",
    "### Limitations\n",
    "> not sure if the data is complete and up-to-date or not. Also, the revenue and budget columns do not have currency unit. This could affect the overall analysis.  split the data seperated by '|' into lists for easy parsing during the exploration phase. This increases the time taken in calculating the result.\n",
    "## Submitting your Project \n",
    "\n",
    "> **Tip**: Before you submit your project, you need to create a .html or .pdf version of this notebook in the workspace here. To do that, run the code cell below. If it worked correctly, you should get a return code of 0, and you should see the generated .html file in the workspace directory (click on the orange Jupyter icon in the upper left).\n",
    "\n",
    "> **Tip**: Alternatively, you can download this report as .html via the **File** > **Download as** submenu, and then manually upload it into the workspace directory by clicking on the orange Jupyter icon in the upper left, then using the Upload button.\n",
    "\n",
    "> **Tip**: Once you've done this, you can submit your project by clicking on the \"Submit Project\" button in the lower right here. This will create and submit a zip file with this .ipynb doc and the .html or .pdf version you created. Congratulations!"
   ]
  },
  {
   "cell_type": "code",
   "execution_count": 256,
   "metadata": {},
   "outputs": [
    {
     "data": {
      "text/plain": [
       "0"
      ]
     },
     "execution_count": 256,
     "metadata": {},
     "output_type": "execute_result"
    }
   ],
   "source": [
    "from subprocess import call\n",
    "call(['python', '-m', 'nbconvert', 'Investigate_a_Dataset.ipynb'])"
   ]
  },
  {
   "cell_type": "code",
   "execution_count": null,
   "metadata": {},
   "outputs": [],
   "source": []
  }
 ],
 "metadata": {
  "kernelspec": {
   "display_name": "Python 3",
   "language": "python",
   "name": "python3"
  },
  "language_info": {
   "codemirror_mode": {
    "name": "ipython",
    "version": 3
   },
   "file_extension": ".py",
   "mimetype": "text/x-python",
   "name": "python",
   "nbconvert_exporter": "python",
   "pygments_lexer": "ipython3",
   "version": "3.6.3"
  }
 },
 "nbformat": 4,
 "nbformat_minor": 2
}
